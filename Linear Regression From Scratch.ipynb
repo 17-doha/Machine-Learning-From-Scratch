{
  "nbformat": 4,
  "nbformat_minor": 0,
  "metadata": {
    "colab": {
      "provenance": []
    },
    "kernelspec": {
      "name": "python3",
      "display_name": "Python 3"
    },
    "language_info": {
      "name": "python"
    }
  },
  "cells": [
    {
      "cell_type": "markdown",
      "source": [
        "#Linear Regression\n"
      ],
      "metadata": {
        "id": "6uUvI3C5Ujwj"
      }
    },
    {
      "cell_type": "code",
      "execution_count": null,
      "metadata": {
        "colab": {
          "base_uri": "https://localhost:8080/",
          "height": 35
        },
        "id": "o01thcyNUbi0",
        "outputId": "13bb4b2c-a391-4bf2-a42d-753f02bdecc9"
      },
      "outputs": [
        {
          "output_type": "execute_result",
          "data": {
            "text/plain": [
              "'Let my equation is y = 7x + 1'"
            ],
            "application/vnd.google.colaboratory.intrinsic+json": {
              "type": "string"
            }
          },
          "metadata": {},
          "execution_count": 1
        }
      ],
      "source": [
        "'''Let my equation is y = 7x + 1'''"
      ]
    },
    {
      "cell_type": "code",
      "source": [
        "import random\n",
        "import numpy as np"
      ],
      "metadata": {
        "id": "pDGL5PKgVThP"
      },
      "execution_count": null,
      "outputs": []
    },
    {
      "cell_type": "code",
      "source": [
        "''' Without Error '''\n",
        "num_samples = 4\n",
        "x_values = [random.uniform(-10, 10) for _ in range(num_samples)]\n",
        "\n",
        "# Calculate corresponding y values\n",
        "y_values = [(7*x + 1) for x in x_values]\n",
        "\n",
        "# Print the generated pairs of (x, y)\n",
        "for x, y in zip(x_values, y_values):\n",
        "    print(f\"x = {x}, y = {y}\")"
      ],
      "metadata": {
        "colab": {
          "base_uri": "https://localhost:8080/"
        },
        "id": "kHEzgMQNVVrB",
        "outputId": "3eb0febd-e432-4c98-bddf-101c066a9dc3"
      },
      "execution_count": null,
      "outputs": [
        {
          "output_type": "stream",
          "name": "stdout",
          "text": [
            "x = 4.748097233723199, y = 34.23668063606239\n",
            "x = -8.15749491223514, y = -56.10246438564599\n",
            "x = 6.833143998929913, y = 48.83200799250939\n",
            "x = -3.112425656964728, y = -20.786979598753096\n"
          ]
        }
      ]
    },
    {
      "cell_type": "code",
      "source": [
        "# ''' With Error '''\n",
        "\n",
        "# num_samples = 4\n",
        "# x_values = [random.uniform(-10, 10) for _ in range(num_samples)]\n",
        "\n",
        "# # Calculate corresponding y values\n",
        "# y_values = [(7*x + 1) + random.uniform(-1.0, 0.5) for x in x_values]\n",
        "\n",
        "# # Print the generated pairs of (x, y)\n",
        "# for x, y in zip(x_values, y_values):\n",
        "#     print(f\"x = {x}, y = {y}\")"
      ],
      "metadata": {
        "id": "IzQsirPeiLQU"
      },
      "execution_count": null,
      "outputs": []
    },
    {
      "cell_type": "code",
      "source": [
        "''' Prepare the augmented matrix '''\n",
        "\n",
        "ones_column = np.ones((len(x_values), 1))\n",
        "values_column = np.array(x_values).reshape(-1, 1)\n",
        "augmented_matrix = np.hstack((ones_column, values_column))\n",
        "\n",
        "print(\"Augmented Matrix:\")\n",
        "print(augmented_matrix)\n",
        "\n",
        "\n",
        "'''    Another way\n",
        "\n",
        "augmented_matrix = []\n",
        "for i in range(len(x_values)):\n",
        "  l = []\n",
        "  l.append(1)\n",
        "  l.append(x_values[i])\n",
        "  augmented_matrix.append(l)\n",
        "print(augmented_matrix)\n",
        "\n",
        "'''"
      ],
      "metadata": {
        "colab": {
          "base_uri": "https://localhost:8080/",
          "height": 139
        },
        "id": "xuCWl5DUVk0m",
        "outputId": "615d9ea1-5de2-48a1-85d5-fd46f133b491"
      },
      "execution_count": null,
      "outputs": [
        {
          "output_type": "stream",
          "name": "stdout",
          "text": [
            "Augmented Matrix:\n",
            "[[ 1.          4.74809723]\n",
            " [ 1.         -8.15749491]\n",
            " [ 1.          6.833144  ]\n",
            " [ 1.         -3.11242566]]\n"
          ]
        },
        {
          "output_type": "execute_result",
          "data": {
            "text/plain": [
              "'    Another way\\n\\naugmented_matrix = []\\nfor i in range(len(x_values)):\\n  l = []\\n  l.append(1)\\n  l.append(x_values[i])\\n  augmented_matrix.append(l)\\nprint(augmented_matrix)\\n\\n'"
            ],
            "application/vnd.google.colaboratory.intrinsic+json": {
              "type": "string"
            }
          },
          "metadata": {},
          "execution_count": 5
        }
      ]
    },
    {
      "cell_type": "code",
      "source": [
        "''' Get the matrix transpose'''\n",
        "augmented_matrix_transpose = np.transpose(augmented_matrix)\n",
        "print(augmented_matrix_transpose)"
      ],
      "metadata": {
        "colab": {
          "base_uri": "https://localhost:8080/"
        },
        "id": "RDkCwY4HXU57",
        "outputId": "1546fda6-6c41-4ac6-c363-e4b0fa841f32"
      },
      "execution_count": null,
      "outputs": [
        {
          "output_type": "stream",
          "name": "stdout",
          "text": [
            "[[ 1.          1.          1.          1.        ]\n",
            " [ 4.74809723 -8.15749491  6.833144   -3.11242566]]\n"
          ]
        }
      ]
    },
    {
      "cell_type": "code",
      "source": [
        "''' Multiply X transpose by X'''\n",
        "result = np.dot(augmented_matrix_transpose, augmented_matrix)\n",
        "\n",
        "print(\"Result of X multiplied by its transpose:\")\n",
        "print(result)"
      ],
      "metadata": {
        "colab": {
          "base_uri": "https://localhost:8080/"
        },
        "id": "P0dfr2YyZOzJ",
        "outputId": "27096194-4d57-4368-8fb1-949bed0848ac"
      },
      "execution_count": null,
      "outputs": [
        {
          "output_type": "stream",
          "name": "stdout",
          "text": [
            "Result of X multiplied by its transpose:\n",
            "[[  4.           0.31132066]\n",
            " [  0.31132066 145.46820096]]\n"
          ]
        }
      ]
    },
    {
      "cell_type": "code",
      "source": [
        "''' Get the inverse of the matrix '''\n",
        "inverse_matrix = np.linalg.inv(result)\n",
        "print(inverse_matrix)"
      ],
      "metadata": {
        "colab": {
          "base_uri": "https://localhost:8080/"
        },
        "id": "RCqjXEspaKYw",
        "outputId": "821ae8d8-9cdb-4b9d-85b8-9ff19ad994a3"
      },
      "execution_count": null,
      "outputs": [
        {
          "output_type": "stream",
          "name": "stdout",
          "text": [
            "[[ 0.25004165 -0.00053512]\n",
            " [-0.00053512  0.0068755 ]]\n"
          ]
        }
      ]
    },
    {
      "cell_type": "code",
      "source": [
        "''' Get the weight vector '''\n",
        "\n",
        "weight_vector= np.dot(np.dot(inverse_matrix, augmented_matrix_transpose), y_values)\n",
        "print(weight_vector)"
      ],
      "metadata": {
        "colab": {
          "base_uri": "https://localhost:8080/"
        },
        "id": "qmrDrSy7fwh9",
        "outputId": "df60dd3f-c538-4397-9a89-444dc9c547cf"
      },
      "execution_count": null,
      "outputs": [
        {
          "output_type": "stream",
          "name": "stdout",
          "text": [
            "[1. 7.]\n"
          ]
        }
      ]
    },
    {
      "cell_type": "code",
      "source": [
        "''' Test the output should be 64 if i substitiuted with 9'''\n",
        "value = weight_vector[1]*9 + weight_vector[0]\n",
        "print(value)"
      ],
      "metadata": {
        "colab": {
          "base_uri": "https://localhost:8080/"
        },
        "id": "DPt00ycig4uZ",
        "outputId": "69a05b9a-822d-4bc4-b248-a72acc8fae75"
      },
      "execution_count": null,
      "outputs": [
        {
          "output_type": "stream",
          "name": "stdout",
          "text": [
            "64.0\n"
          ]
        }
      ]
    },
    {
      "cell_type": "code",
      "source": [],
      "metadata": {
        "id": "gyLilv2jnMEw"
      },
      "execution_count": null,
      "outputs": []
    }
  ]
}