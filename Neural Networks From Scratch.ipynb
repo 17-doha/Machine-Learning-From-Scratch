{
  "nbformat": 4,
  "nbformat_minor": 0,
  "metadata": {
    "colab": {
      "provenance": []
    },
    "kernelspec": {
      "name": "python3",
      "display_name": "Python 3"
    },
    "language_info": {
      "name": "python"
    }
  },
  "cells": [
    {
      "cell_type": "code",
      "execution_count": null,
      "metadata": {
        "id": "50unhrwB3Y6Q"
      },
      "outputs": [],
      "source": [
        "import pandas as pd\n",
        "import numpy as np\n",
        "from keras.datasets import mnist\n",
        "from sklearn.metrics import confusion_matrix"
      ]
    },
    {
      "cell_type": "code",
      "source": [
        "def sigmoid(x):\n",
        "    return 1 / (1 + np.exp(-x))\n",
        "def sigmoid_derivative(x):\n",
        "    return sigmoid(x) * (1 - sigmoid(x))"
      ],
      "metadata": {
        "id": "bbC3akgA3iMG"
      },
      "execution_count": null,
      "outputs": []
    },
    {
      "cell_type": "code",
      "source": [
        "(X_train, y_train), (X_test, y_test) = mnist.load_data()"
      ],
      "metadata": {
        "id": "xkAq5wMm3mKg"
      },
      "execution_count": null,
      "outputs": []
    },
    {
      "cell_type": "code",
      "source": [
        "X_train_flattened = X_train.reshape((X_train.shape[0], -1)) / 255.0\n",
        "X_test_flattened = X_test.reshape((X_test.shape[0], -1)) / 255.0\n",
        "num_classes = 10\n",
        "y_train_onehot = np.eye(num_classes)[y_train]\n",
        "y_test_onehot = np.eye(num_classes)[y_test]"
      ],
      "metadata": {
        "id": "RYGvdXvC3p1S"
      },
      "execution_count": null,
      "outputs": []
    },
    {
      "cell_type": "code",
      "source": [
        "print(X_train_flattened.shape)\n",
        "print(X_test_flattened.shape)\n",
        "print(y_train_onehot.shape)\n",
        "print(y_test_onehot.shape)"
      ],
      "metadata": {
        "colab": {
          "base_uri": "https://localhost:8080/"
        },
        "id": "w4gUvyskQ3FI",
        "outputId": "1c4eb18b-ddab-4f21-eb7c-7b7416fdc435"
      },
      "execution_count": null,
      "outputs": [
        {
          "output_type": "stream",
          "name": "stdout",
          "text": [
            "(60000, 784)\n",
            "(10000, 784)\n",
            "(60000, 10)\n",
            "(10000, 10)\n"
          ]
        }
      ]
    },
    {
      "cell_type": "code",
      "source": [
        "input = X_train_flattened.shape[1]\n",
        "hidden = 128 #try\n",
        "output = num_classes\n",
        "\n",
        "weights_input_hidden = np.random.randn(input, hidden)\n",
        "biases_input =np.zeros((1, hidden))\n",
        "weights_hidden = np.random.randn(hidden, output)\n",
        "biases_hidden =np.zeros((1, output))"
      ],
      "metadata": {
        "id": "9hGxSdBo3seV"
      },
      "execution_count": null,
      "outputs": []
    },
    {
      "cell_type": "code",
      "source": [
        "n = 0.01\n",
        "epochs = 20\n",
        "predictions = 0\n",
        "for epoch in range(epochs):\n",
        "  for i in range(len(X_train_flattened)):\n",
        "  #Forward\n",
        "    # i = 0\n",
        "    feature = X_train_flattened[i]\n",
        "    output_input_hidden = sigmoid(np.dot(feature.T, weights_input_hidden)+biases_input)\n",
        "    output_hidden_output = sigmoid(np.dot(output_input_hidden,weights_hidden)+biases_hidden)\n",
        "    #Backward\n",
        "    output_error = y_train_onehot[i] - output_hidden_output\n",
        "    segma_output = sigmoid_derivative(output_hidden_output) * output_error\n",
        "\n",
        "    change_output = np.dot(output_input_hidden.T, segma_output) * n\n",
        "    weights_hidden = weights_hidden + change_output\n",
        "\n",
        "    hidden_error= np.dot(segma_output,weights_hidden.T)\n",
        "    segma_hidden = sigmoid_derivative(output_input_hidden) * hidden_error\n",
        "\n",
        "    change_hidden = np.dot(feature.reshape(-1, 1), segma_hidden) * n\n",
        "    weights_input_hidden = weights_input_hidden + change_hidden\n",
        "  output_input_hidden = sigmoid(np.dot(X_test_flattened, weights_input_hidden)+biases_input)\n",
        "  output_hidden_output = sigmoid(np.dot(output_input_hidden,weights_hidden)+biases_hidden)\n",
        "  predictions = np.argmax(output_hidden_output, axis = 1)\n",
        "  accuracy = np.mean(predictions == np.argmax(y_test_onehot, axis = 1))\n",
        "\n",
        "  print(f'Epoch {epoch+1}/{epochs}, Test Accuracy: {accuracy}')\n",
        "conf_matrix = confusion_matrix(y_test, predictions)\n",
        "print(\"Confusion Matrix:\")\n",
        "print(conf_matrix)\n",
        "conf_df = pd.DataFrame(conf_matrix, index=[f'Actual {i}' for i in range(10)], columns=[f'Predicted {i}' for i in range(10)])\n",
        "print(conf_df)\n",
        "\n"
      ],
      "metadata": {
        "colab": {
          "base_uri": "https://localhost:8080/"
        },
        "id": "t31XTgB4304J",
        "outputId": "1ea7c8bf-f00a-4781-ee43-d5b90f67a885"
      },
      "execution_count": null,
      "outputs": [
        {
          "output_type": "stream",
          "name": "stderr",
          "text": [
            "<ipython-input-37-61cfbe30c85c>:2: RuntimeWarning: overflow encountered in exp\n",
            "  return 1 / (1 + np.exp(-x))\n"
          ]
        },
        {
          "output_type": "stream",
          "name": "stdout",
          "text": [
            "Epoch 1/20, Test Accuracy: 0.852\n",
            "Epoch 2/20, Test Accuracy: 0.8296\n",
            "Epoch 3/20, Test Accuracy: 0.8506\n",
            "Epoch 4/20, Test Accuracy: 0.858\n",
            "Epoch 5/20, Test Accuracy: 0.8657\n",
            "Epoch 6/20, Test Accuracy: 0.8718\n",
            "Epoch 7/20, Test Accuracy: 0.8677\n",
            "Epoch 8/20, Test Accuracy: 0.8696\n",
            "Epoch 9/20, Test Accuracy: 0.8728\n",
            "Epoch 10/20, Test Accuracy: 0.8716\n",
            "Epoch 11/20, Test Accuracy: 0.8679\n",
            "Epoch 12/20, Test Accuracy: 0.8672\n",
            "Epoch 13/20, Test Accuracy: 0.868\n",
            "Epoch 14/20, Test Accuracy: 0.8615\n",
            "Epoch 15/20, Test Accuracy: 0.8672\n",
            "Epoch 16/20, Test Accuracy: 0.8698\n",
            "Epoch 17/20, Test Accuracy: 0.8664\n",
            "Epoch 18/20, Test Accuracy: 0.8588\n",
            "Epoch 19/20, Test Accuracy: 0.855\n",
            "Epoch 20/20, Test Accuracy: 0.8531\n",
            "Confusion Matrix:\n",
            "[[ 937    1    5    2    2    6   16    1    9    1]\n",
            " [   0 1066    2    3    0    2    3    1   57    1]\n",
            " [  15   16  790   46   17    3   29   23   90    3]\n",
            " [   7    2   22  889    2   26    6   11   42    3]\n",
            " [   1   10    3    0  870    2   14    3   36   43]\n",
            " [  44    8    5   44   16  621   34   23   88    9]\n",
            " [  19    2    5    2   18   14  890    0    8    0]\n",
            " [   3   18   19   23   10    4    0  858   42   51]\n",
            " [  10   12    4   33   14   65   16    3  811    6]\n",
            " [   8    4    1   12   83   22    1   23   56  799]]\n",
            "          Predicted 0  Predicted 1  Predicted 2  Predicted 3  Predicted 4  \\\n",
            "Actual 0          937            1            5            2            2   \n",
            "Actual 1            0         1066            2            3            0   \n",
            "Actual 2           15           16          790           46           17   \n",
            "Actual 3            7            2           22          889            2   \n",
            "Actual 4            1           10            3            0          870   \n",
            "Actual 5           44            8            5           44           16   \n",
            "Actual 6           19            2            5            2           18   \n",
            "Actual 7            3           18           19           23           10   \n",
            "Actual 8           10           12            4           33           14   \n",
            "Actual 9            8            4            1           12           83   \n",
            "\n",
            "          Predicted 5  Predicted 6  Predicted 7  Predicted 8  Predicted 9  \n",
            "Actual 0            6           16            1            9            1  \n",
            "Actual 1            2            3            1           57            1  \n",
            "Actual 2            3           29           23           90            3  \n",
            "Actual 3           26            6           11           42            3  \n",
            "Actual 4            2           14            3           36           43  \n",
            "Actual 5          621           34           23           88            9  \n",
            "Actual 6           14          890            0            8            0  \n",
            "Actual 7            4            0          858           42           51  \n",
            "Actual 8           65           16            3          811            6  \n",
            "Actual 9           22            1           23           56          799  \n"
          ]
        }
      ]
    },
    {
      "cell_type": "code",
      "source": [],
      "metadata": {
        "id": "2DZTUOfJAwya"
      },
      "execution_count": null,
      "outputs": []
    }
  ]
}